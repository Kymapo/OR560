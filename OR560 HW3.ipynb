{
 "cells": [
  {
   "cell_type": "markdown",
   "metadata": {},
   "source": [
    "# Problem 1"
   ]
  },
  {
   "cell_type": "code",
   "execution_count": 1,
   "metadata": {},
   "outputs": [],
   "source": [
    "import numpy as np"
   ]
  },
  {
   "cell_type": "code",
   "execution_count": 2,
   "metadata": {},
   "outputs": [],
   "source": [
    "def matrix_power(A, n):\n",
    "    A = np.array(A)\n",
    "    if A.shape[0] != A.shape[1]:\n",
    "        raise ValueError(\"Matrix must be square\")\n",
    "    if n < 0 or n % 1 != 0:\n",
    "        raise ValueError(\"Power must be non-negative integer\")\n",
    "    if np.any(A < 0) or np.any(A > 1) or np.isnan(A).any():\n",
    "        raise ValueError(\"Matrix elements must be between 0 and 1\")\n",
    "    if np.any(abs(np.sum(A, axis=1) - 1) > 1e-9):\n",
    "        raise ValueError(\"Each row must sum to 1\")\n",
    "    \n",
    "\n",
    "    if n == 0:\n",
    "        return np.eye(A.shape[0])\n",
    "    \n",
    "    for i in range(1, n + 1):\n",
    "        if i == 1:\n",
    "            result = A\n",
    "        else:\n",
    "            result = np.round(np.dot(result, A), 6)\n",
    "            #print(result)\n",
    "\n",
    "    return result"
   ]
  },
  {
   "cell_type": "code",
   "execution_count": 3,
   "metadata": {},
   "outputs": [
    {
     "name": "stdout",
     "output_type": "stream",
     "text": [
      "Valid 2x2:\n"
     ]
    },
    {
     "data": {
      "text/plain": [
       "array([[0.285718, 0.714282],\n",
       "       [0.285713, 0.714287]])"
      ]
     },
     "execution_count": 3,
     "metadata": {},
     "output_type": "execute_result"
    }
   ],
   "source": [
    "print(\"Valid 2x2:\")\n",
    "matrix_power(np.array([[0.5, 0.5], [0.2, 0.8]]), 10)"
   ]
  },
  {
   "cell_type": "code",
   "execution_count": 4,
   "metadata": {},
   "outputs": [
    {
     "name": "stdout",
     "output_type": "stream",
     "text": [
      "Valid 3x3 with n=0:\n"
     ]
    },
    {
     "data": {
      "text/plain": [
       "array([[1., 0., 0.],\n",
       "       [0., 1., 0.],\n",
       "       [0., 0., 1.]])"
      ]
     },
     "execution_count": 4,
     "metadata": {},
     "output_type": "execute_result"
    }
   ],
   "source": [
    "print(\"Valid 3x3 with n=0:\")\n",
    "matrix_power(np.array([[0.1, 0.6, 0.3], [0.4, 0.5, 0.1], [0.7, 0.2, 0.1]]), 0)"
   ]
  },
  {
   "cell_type": "code",
   "execution_count": 5,
   "metadata": {},
   "outputs": [
    {
     "name": "stdout",
     "output_type": "stream",
     "text": [
      "Invalid matrix:\n"
     ]
    },
    {
     "ename": "ValueError",
     "evalue": "Matrix must be square",
     "output_type": "error",
     "traceback": [
      "\u001b[31m---------------------------------------------------------------------------\u001b[39m",
      "\u001b[31mValueError\u001b[39m                                Traceback (most recent call last)",
      "\u001b[36mCell\u001b[39m\u001b[36m \u001b[39m\u001b[32mIn[5]\u001b[39m\u001b[32m, line 2\u001b[39m\n\u001b[32m      1\u001b[39m \u001b[38;5;28mprint\u001b[39m(\u001b[33m\"\u001b[39m\u001b[33mInvalid matrix:\u001b[39m\u001b[33m\"\u001b[39m)\n\u001b[32m----> \u001b[39m\u001b[32m2\u001b[39m \u001b[43mmatrix_power\u001b[49m\u001b[43m(\u001b[49m\u001b[43mnp\u001b[49m\u001b[43m.\u001b[49m\u001b[43marray\u001b[49m\u001b[43m(\u001b[49m\u001b[43m[\u001b[49m\u001b[43m[\u001b[49m\u001b[32;43m0.1\u001b[39;49m\u001b[43m,\u001b[49m\u001b[43m \u001b[49m\u001b[32;43m0.6\u001b[39;49m\u001b[43m,\u001b[49m\u001b[43m \u001b[49m\u001b[32;43m0.3\u001b[39;49m\u001b[43m]\u001b[49m\u001b[43m,\u001b[49m\u001b[43m \u001b[49m\u001b[43m[\u001b[49m\u001b[32;43m0.4\u001b[39;49m\u001b[43m,\u001b[49m\u001b[43m \u001b[49m\u001b[32;43m0.5\u001b[39;49m\u001b[43m,\u001b[49m\u001b[43m \u001b[49m\u001b[32;43m0.1\u001b[39;49m\u001b[43m]\u001b[49m\u001b[43m]\u001b[49m\u001b[43m)\u001b[49m\u001b[43m,\u001b[49m\u001b[43m \u001b[49m\u001b[32;43m2\u001b[39;49m\u001b[43m)\u001b[49m\n",
      "\u001b[36mCell\u001b[39m\u001b[36m \u001b[39m\u001b[32mIn[2]\u001b[39m\u001b[32m, line 4\u001b[39m, in \u001b[36mmatrix_power\u001b[39m\u001b[34m(A, n)\u001b[39m\n\u001b[32m      2\u001b[39m A = np.array(A)\n\u001b[32m      3\u001b[39m \u001b[38;5;28;01mif\u001b[39;00m A.shape[\u001b[32m0\u001b[39m] != A.shape[\u001b[32m1\u001b[39m]:\n\u001b[32m----> \u001b[39m\u001b[32m4\u001b[39m     \u001b[38;5;28;01mraise\u001b[39;00m \u001b[38;5;167;01mValueError\u001b[39;00m(\u001b[33m\"\u001b[39m\u001b[33mMatrix must be square\u001b[39m\u001b[33m\"\u001b[39m)\n\u001b[32m      5\u001b[39m \u001b[38;5;28;01mif\u001b[39;00m n < \u001b[32m0\u001b[39m \u001b[38;5;129;01mor\u001b[39;00m n % \u001b[32m1\u001b[39m != \u001b[32m0\u001b[39m:\n\u001b[32m      6\u001b[39m     \u001b[38;5;28;01mraise\u001b[39;00m \u001b[38;5;167;01mValueError\u001b[39;00m(\u001b[33m\"\u001b[39m\u001b[33mPower must be non-negative integer\u001b[39m\u001b[33m\"\u001b[39m)\n",
      "\u001b[31mValueError\u001b[39m: Matrix must be square"
     ]
    }
   ],
   "source": [
    "print(\"Invalid matrix:\")\n",
    "matrix_power(np.array([[0.1, 0.6, 0.3], [0.4, 0.5, 0.1]]), 2)"
   ]
  },
  {
   "cell_type": "code",
   "execution_count": 6,
   "metadata": {},
   "outputs": [
    {
     "name": "stdout",
     "output_type": "stream",
     "text": [
      "Large n:\n"
     ]
    },
    {
     "data": {
      "text/plain": [
       "array([[0.346773, 0.48387 , 0.169354],\n",
       "       [0.346773, 0.48387 , 0.169355],\n",
       "       [0.346774, 0.483872, 0.169355]])"
      ]
     },
     "execution_count": 6,
     "metadata": {},
     "output_type": "execute_result"
    }
   ],
   "source": [
    "print(\"Large n:\")\n",
    "matrix_power(np.array([[0.1, 0.6, 0.3], [0.4, 0.5, 0.1], [0.7, 0.2, 0.1]]), 50)"
   ]
  },
  {
   "cell_type": "code",
   "execution_count": null,
   "metadata": {},
   "outputs": [
    {
     "name": "stdout",
     "output_type": "stream",
     "text": [
      "[[0.33 0.34 0.33]\n",
      " [0.14 0.48 0.38]\n",
      " [0.12 0.36 0.52]]\n"
     ]
    },
    {
     "ename": "ValueError",
     "evalue": "invalid literal for int() with base 10: ''",
     "output_type": "error",
     "traceback": [
      "\u001b[31m---------------------------------------------------------------------------\u001b[39m",
      "\u001b[31mValueError\u001b[39m                                Traceback (most recent call last)",
      "\u001b[36mCell\u001b[39m\u001b[36m \u001b[39m\u001b[32mIn[16]\u001b[39m\u001b[32m, line 5\u001b[39m\n\u001b[32m      3\u001b[39m exit_r = \u001b[38;5;28;01mFalse\u001b[39;00m\n\u001b[32m      4\u001b[39m row_error = \u001b[38;5;28;01mFalse\u001b[39;00m\n\u001b[32m----> \u001b[39m\u001b[32m5\u001b[39m dim = \u001b[38;5;28;43mint\u001b[39;49m\u001b[43m(\u001b[49m\u001b[38;5;28;43minput\u001b[39;49m\u001b[43m(\u001b[49m\u001b[33;43m\"\u001b[39;49m\u001b[33;43mEnter matrix size (n x n) (positive integer): \u001b[39;49m\u001b[33;43m\"\u001b[39;49m\u001b[43m)\u001b[49m\u001b[43m)\u001b[49m\n\u001b[32m      6\u001b[39m \u001b[38;5;28;01mif\u001b[39;00m dim == \u001b[33m'\u001b[39m\u001b[33mexit\u001b[39m\u001b[33m'\u001b[39m:\n\u001b[32m      7\u001b[39m     \u001b[38;5;28;01mbreak\u001b[39;00m\n",
      "\u001b[31mValueError\u001b[39m: invalid literal for int() with base 10: ''"
     ]
    }
   ],
   "source": [
    "### VSCode autofilled some of this, but I edited to prompt errors ###\n",
    "while True:\n",
    "    exit_r = False\n",
    "    row_error = False\n",
    "    dim = int(input(\"Enter matrix size (n x n) (positive integer): \"))\n",
    "    if dim == 'exit':\n",
    "        break\n",
    "    if dim <= 0 or dim % 1 != 0:\n",
    "        print(\"Size must be a positive integer.\")\n",
    "        continue\n",
    "    matrix = []\n",
    "    for i in range(dim):\n",
    "        row_input = input(f\"Row {i+1}: Separate by Spaces\")\n",
    "        if row_input == 'exit':\n",
    "            exit_r = True\n",
    "            break\n",
    "        if row_input.count(' ') != dim - 1:\n",
    "            row_error = True\n",
    "            print(f\"Row must have exactly {dim} elements.\")\n",
    "            break\n",
    "            \n",
    "        row = [float(x) for x in row_input.split()]\n",
    "        matrix.append(row)\n",
    "\n",
    "    if row_error: # Couldn't figure out how to re-prompt for individual row\n",
    "        continue\n",
    "    if exit_r:\n",
    "        break\n",
    "\n",
    "    matrix = np.array(matrix)\n",
    "    if np.any(matrix < 0) or np.any(matrix > 1) or np.isnan(matrix).any():\n",
    "        print(\"Matrix elements must be between 0 and 1.\")\n",
    "        continue\n",
    "\n",
    "    if np.any(abs(np.sum(matrix, axis=1) - 1) > 1e-9):\n",
    "        print(\"Each row must sum to 1.\")\n",
    "        continue\n",
    "\n",
    "    n = int(input(\"Enter power (non-negative integer): \"))\n",
    "    if n == 'exit':\n",
    "        break\n",
    "    if n < 0 or n % 1 != 0:\n",
    "        print(\"Power must be a non-negative integer.\")\n",
    "        continue\n",
    "\n",
    "    print(matrix_power(matrix, n))"
   ]
  },
  {
   "cell_type": "markdown",
   "metadata": {},
   "source": [
    "# Problem 2"
   ]
  },
  {
   "cell_type": "code",
   "execution_count": 18,
   "metadata": {},
   "outputs": [
    {
     "name": "stdout",
     "output_type": "stream",
     "text": [
      "[[0.   1.   0.   0.   0.   0.   0.   0.   0.   0.   0.  ]\n",
      " [0.01 0.18 0.81 0.   0.   0.   0.   0.   0.   0.   0.  ]\n",
      " [0.   0.04 0.32 0.64 0.   0.   0.   0.   0.   0.   0.  ]\n",
      " [0.   0.   0.09 0.42 0.49 0.   0.   0.   0.   0.   0.  ]\n",
      " [0.   0.   0.   0.16 0.48 0.36 0.   0.   0.   0.   0.  ]\n",
      " [0.   0.   0.   0.   0.25 0.5  0.25 0.   0.   0.   0.  ]\n",
      " [0.   0.   0.   0.   0.   0.36 0.48 0.16 0.   0.   0.  ]\n",
      " [0.   0.   0.   0.   0.   0.   0.49 0.42 0.09 0.   0.  ]\n",
      " [0.   0.   0.   0.   0.   0.   0.   0.64 0.32 0.04 0.  ]\n",
      " [0.   0.   0.   0.   0.   0.   0.   0.   0.81 0.18 0.01]\n",
      " [0.   0.   0.   0.   0.   0.   0.   0.   0.   1.   0.  ]]\n"
     ]
    }
   ],
   "source": [
    "N = 10\n",
    "\n",
    "B = np.zeros((N+1, N+1))\n",
    "B[0, 1] = 1 # Fix from typo\n",
    "B[-1, -2] = 1 # Same here\n",
    "for i in range(1, N):\n",
    "    B[i, i - 1] = (i / N)**2\n",
    "    B[i, i + 1] = ((N - i) / N)**2\n",
    "    B[i, i] = 2 * (i / N) * ((N - i) / N)\n",
    "\n",
    "print(B)"
   ]
  },
  {
   "cell_type": "code",
   "execution_count": 21,
   "metadata": {},
   "outputs": [
    {
     "name": "stdout",
     "output_type": "stream",
     "text": [
      "E[X_0]=10\n",
      "\n",
      "E[X_5]=6.638393\n",
      "\n",
      "E[X_10]=5.536861000000001\n",
      "\n",
      "E[X_15]=5.1759129999999995\n",
      "\n",
      "E[X_20]=5.057628\n",
      "\n"
     ]
    }
   ],
   "source": [
    "x0 = [0, 0, 0, 0, 0, 0, 0, 0, 0, 0, 1]\n",
    "x5 = np.dot(x0, matrix_power(B, 5))\n",
    "x10 = np.dot(x0, matrix_power(B, 10))\n",
    "x15 = np.dot(x0, matrix_power(B, 15))\n",
    "x20 = np.dot(x0, matrix_power(B, 20))\n",
    "print(f\"E[X_0]={sum(x0[i] * i for i in range(len(x0)))}\\n\")\n",
    "print(f\"E[X_5]={sum(x5[i] * i for i in range(len(x5)))}\\n\")\n",
    "print(f\"E[X_10]={sum(x10[i] * i for i in range(len(x10)))}\\n\")\n",
    "print(f\"E[X_15]={sum(x15[i] * i for i in range(len(x15)))}\\n\")\n",
    "print(f\"E[X_20]={sum(x20[i] * i for i in range(len(x20)))}\\n\")"
   ]
  },
  {
   "cell_type": "code",
   "execution_count": 35,
   "metadata": {},
   "outputs": [
    {
     "name": "stdout",
     "output_type": "stream",
     "text": [
      "[ 1.    0.8   0.62  0.46  0.32  0.2   0.1   0.02 -0.1  -0.08 -0.04]\n"
     ]
    }
   ],
   "source": [
    "print(np.linalg.eig(B)[0])"
   ]
  },
  {
   "cell_type": "markdown",
   "metadata": {},
   "source": [
    "Per Claude, every probability transition matrix must have at least one eigenvalue equal to 1. The corresponding eigenvector is the stationary distribution of the system. The second largest eigenvalue in absolute value corresponds to the rate at which the system converges to its stationary distribution. If the value is close to 1, then the convergence will be slow. If it is small, then the convergence is fast. Additionally, if all but one of the eigenvalues are strictly less than 1, then the system is irreducible and aperiodic."
   ]
  },
  {
   "cell_type": "code",
   "execution_count": 40,
   "metadata": {},
   "outputs": [
    {
     "name": "stdout",
     "output_type": "stream",
     "text": [
      "Stationary distribution (from eigenvector): \n",
      " [5.41254411e-06 5.41254411e-04 1.09604018e-02 7.79406352e-02\n",
      " 2.38693195e-01 3.43718201e-01 2.38693195e-01 7.79406352e-02\n",
      " 1.09604018e-02 5.41254411e-04 5.41254411e-06]\n"
     ]
    }
   ],
   "source": [
    "print(f\"Stationary distribution (from eigenvector): \\n {np.linalg.eig(B.T)[1][:,0] / np.sum(np.linalg.eig(B.T)[1][:,0])}\") # Division is to normalize eigenvector so entries sum to 1"
   ]
  },
  {
   "cell_type": "code",
   "execution_count": null,
   "metadata": {},
   "outputs": [],
   "source": []
  }
 ],
 "metadata": {
  "kernelspec": {
   "display_name": "Python 3",
   "language": "python",
   "name": "python3"
  },
  "language_info": {
   "codemirror_mode": {
    "name": "ipython",
    "version": 3
   },
   "file_extension": ".py",
   "mimetype": "text/x-python",
   "name": "python",
   "nbconvert_exporter": "python",
   "pygments_lexer": "ipython3",
   "version": "3.11.9"
  }
 },
 "nbformat": 4,
 "nbformat_minor": 2
}
